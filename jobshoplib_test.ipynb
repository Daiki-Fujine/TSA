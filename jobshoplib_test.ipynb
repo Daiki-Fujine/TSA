{
 "cells": [
  {
   "cell_type": "code",
   "execution_count": 39,
   "id": "cf27f49c",
   "metadata": {},
   "outputs": [],
   "source": [
    "from job_shop_lib.benchmarking import load_benchmark_instance\n",
    "\n",
    "ta01 = load_benchmark_instance(\"ta01\")"
   ]
  },
  {
   "cell_type": "code",
   "execution_count": 40,
   "id": "37b7c374",
   "metadata": {},
   "outputs": [
    {
     "data": {
      "text/plain": [
       "{'optimum': 1231,\n",
       " 'upper_bound': 1231,\n",
       " 'lower_bound': 1231,\n",
       " 'reference': \"E. Taillard. 'Benchmarks for basic scheduling problems', European Journal of Operational Research, Vol. 64, Issue 2, pp. 278-285, 1993.\"}"
      ]
     },
     "execution_count": 40,
     "metadata": {},
     "output_type": "execute_result"
    }
   ],
   "source": [
    "ta01.metadata"
   ]
  },
  {
   "cell_type": "code",
   "execution_count": 41,
   "id": "c4ccfccd",
   "metadata": {},
   "outputs": [
    {
     "name": "stdout",
     "output_type": "stream",
     "text": [
      "Number of jobs: 15\n",
      "Number of machines: 15\n"
     ]
    }
   ],
   "source": [
    "jobs = ta01.jobs\n",
    "num_machines = ta01.num_machines\n",
    "num_jobs = ta01.num_jobs\n",
    "\n",
    "print(\"Number of jobs:\", num_jobs)\n",
    "print(\"Number of machines:\", num_machines)"
   ]
  },
  {
   "cell_type": "code",
   "execution_count": 42,
   "id": "ffb2d7ab",
   "metadata": {},
   "outputs": [
    {
     "name": "stdout",
     "output_type": "stream",
     "text": [
      "Number of jobs: 15, Number of machines: 15\n",
      "Initial population values:\n",
      " [ 0.48813504  2.15189366  1.02763376  0.44883183 -0.76345201  1.45894113\n",
      " -0.62412789  3.91773001  4.63662761 -1.16558481  2.91725038  0.2889492\n",
      "  0.68044561  4.25596638 -4.28963942 -4.128707   -4.79781603  3.32619846\n",
      "  2.78156751  3.70012148  4.78618342  2.99158564 -0.38520638  2.80529176\n",
      " -3.81725574  1.39921021 -3.56646713  4.44668917  0.21848322 -0.8533806\n",
      " -2.35444388  2.74233689 -0.43849668  0.68433949 -4.812102    1.17635497\n",
      "  1.12095723  1.16933997  4.43748079  1.81820299 -1.40492099 -0.62968046\n",
      "  1.97631196 -4.39774528  1.66766715  1.7063787  -2.89617439 -3.71073702\n",
      " -1.84571649 -1.36289229  0.7019677  -0.61398487  4.88373838 -3.97955189\n",
      " -2.91123244 -3.38690482  1.53108325 -2.46708397 -0.33689227 -2.55574408\n",
      " -3.41030416 -3.89624859  1.56329589 -3.61817049 -3.03417638 -1.31274829\n",
      "  3.2099323  -4.02898724  3.37944907 -4.03901592  4.76459465 -0.31348798\n",
      "  4.76761088  1.0484552   2.39263579 -4.60812208 -2.17193037 -3.79803439\n",
      " -2.03859802 -3.81272281 -1.82016821 -0.85737005 -4.35852504  1.92472119\n",
      "  0.66601454 -2.34610509  0.23248053 -4.06059489  0.75946496  4.29296198\n",
      " -1.81431048  1.6741038  -3.68202138  2.16327204 -2.10593907 -3.16808638\n",
      "  0.86512935 -4.79892454  3.28940029 -4.95304524  1.77816537 -2.29992027\n",
      "  2.35194022  4.62188545 -2.51246856  0.76157334  0.92041931  0.72251906\n",
      " -2.76918367  4.52749012 -0.52874621  3.46408672  1.99479275 -2.02563049\n",
      "  3.1379782  -1.03494259  3.81103197  0.81272873  3.81735362  1.9253159\n",
      "  2.2525428   0.01324382  4.56083635  1.43990199 -0.76144951  1.06393214\n",
      " -4.80806802 -1.98425183  1.60173537 -2.09922393  1.18015429 -0.71231299\n",
      " -3.64525936 -2.01717674  0.69964911  0.90872761  0.74325249  1.5320082\n",
      "  1.5210327  -0.68581565  3.96546596 -1.3243813  -0.64135075  3.91923355\n",
      "  3.06193989  2.03888584 -3.99773113  4.19482614  2.142413    4.98847007\n",
      " -3.50551695  3.68126057 -3.37507065  1.15559564 -3.76180017  3.48008229\n",
      "  3.07318959  0.69100739 -0.92816703 -4.30833005  1.97428773 -0.46457317\n",
      "  2.22055599  3.66382326  4.75521505  3.55803342 -4.88285916 -1.40021936\n",
      "  2.29990562 -3.28370323  0.21036606 -4.45662012 -3.00003475 -4.81478206\n",
      "  2.93697703 -2.76075312 -1.54648319  4.28081293  2.04414402 -4.6816107\n",
      " -3.35305844  1.21478401  0.77228589 -2.62107179  4.34213998  1.13965956\n",
      "  0.35632803  0.89909976  2.3012203  -1.88055005 -1.01778938 -2.90156251\n",
      " -3.13806994  4.4437239   2.39550795 -0.09541191 -2.72585372 -2.45643518\n",
      " -4.4197084  -0.65583374 -1.88204118  1.96343489 -1.22248161 -3.20396322\n",
      " -4.75321272 -4.32750369  1.79392773 -0.46303155  0.36579211  3.96671293\n",
      "  4.90338947 -2.83103016  1.63078203 -2.36677623 -4.79349001  2.58378654\n",
      " -1.79982849 -1.16536106  0.88317114  3.31048455  1.28981844  3.72650655\n",
      " -2.26457965  2.98046834 -3.14364056]\n",
      "Initial sequence based on population va)lues:\n",
      " [116 169 134 115  91 147  98 203 218  84 182 112 118 208  18  19   7 192\n",
      " 180 199 222 185 104 181  26 145  34 214 110  90  60 179 103 119   4 141\n",
      " 137 140 212 159  78  97 164  14 154 156  49  30  73  80 122  99 223  24\n",
      "  47  37 149  57 105  55  36  25 151  33  45  82 189  22 193  21 220 106\n",
      " 221 135 176  11  64  28  67  27  74  89  15 160 117  61 111  20 125 210\n",
      "  75 155  31 170  65  42 129   6 190   1 157  62 175 217  56 126 133 123\n",
      "  51 215 100 194 165  68 188  86 201 128 202 161 172 108 216 146  92 136\n",
      "   5  70 152  66 142  93  32  69 121 132 124 150 148  94 205  81  96 204\n",
      " 186 166  23 207 168 225  35 198  38 139  29 195 187 120  88  17 163 101\n",
      " 171 197 219 196   2  79 173  40 109  12  46   3 183  52  77 209 167  10\n",
      "  39 143 127  54 211 138 113 131 174  72  87  48  44 213 177 107  53  58\n",
      "  13  95  71 162  83  41   9  16 158 102 114 206 224  50 153  59   8 178\n",
      "  76  85 130 191 144 200  63 184  43]\n",
      "Job sequence based on initial population:\n",
      " [12  5 15 11  2 13  9  9  9 10  3  8 14 14  4  5  8 13  1  5 13  6 15  2\n",
      " 12 11  5  5  6  1  1 15 14 15  5  7  3  6  3 10  4  8 15 15  5  7  5  1\n",
      " 14  6  3 10 14 10  3  8 15 13  1 11  7 11  2  4  1  8 10  8 14  7 11  2\n",
      " 12  1 12 12  5 14  8 13 15 15  1 11 13  2  7  6  6  1  1  6  2  6  6 13\n",
      " 10  7 11  2  8  3 11  8 12  7 14  4  7  6 11 15  1  9  9 12  7  9  8 12\n",
      "  8  4  7 12  3  2  6 11  3  7  8  4  3 10  2 13  5  1 14  5 11  7  7 10\n",
      "  7  2  9 13  4  1  6  4  9  5 15  1  8  1 14  3 14 12  7  3 10  2  3  5\n",
      "  9 11  5 13  2  4  4  8  3 15  3 11 10  9  8 10  2  4  9 12 10 13 13  4\n",
      " 15  4 13  3  9 14 14  6 12 13  9 12 10  2  9 13 10 12 15  6  4 15  9 14\n",
      "  2 11 11 12 10  6  4  5 14]\n",
      "Job sequence tuples:\n",
      " [(np.int64(11), 0), (np.int64(4), 0), (np.int64(14), 0), (np.int64(10), 0), (np.int64(1), 0), (np.int64(12), 0), (np.int64(8), 0), (np.int64(8), 1), (np.int64(8), 2), (np.int64(9), 0), (np.int64(2), 0), (np.int64(7), 0), (np.int64(13), 0), (np.int64(13), 1), (np.int64(3), 0), (np.int64(4), 1), (np.int64(7), 1), (np.int64(12), 1), (np.int64(0), 0), (np.int64(4), 2), (np.int64(12), 2), (np.int64(5), 0), (np.int64(14), 1), (np.int64(1), 1), (np.int64(11), 1), (np.int64(10), 1), (np.int64(4), 3), (np.int64(4), 4), (np.int64(5), 1), (np.int64(0), 1), (np.int64(0), 2), (np.int64(14), 2), (np.int64(13), 2), (np.int64(14), 3), (np.int64(4), 5), (np.int64(6), 0), (np.int64(2), 1), (np.int64(5), 2), (np.int64(2), 2), (np.int64(9), 1), (np.int64(3), 1), (np.int64(7), 2), (np.int64(14), 4), (np.int64(14), 5), (np.int64(4), 6), (np.int64(6), 1), (np.int64(4), 7), (np.int64(0), 3), (np.int64(13), 3), (np.int64(5), 3), (np.int64(2), 3), (np.int64(9), 2), (np.int64(13), 4), (np.int64(9), 3), (np.int64(2), 4), (np.int64(7), 3), (np.int64(14), 6), (np.int64(12), 3), (np.int64(0), 4), (np.int64(10), 2), (np.int64(6), 2), (np.int64(10), 3), (np.int64(1), 2), (np.int64(3), 2), (np.int64(0), 5), (np.int64(7), 4), (np.int64(9), 4), (np.int64(7), 5), (np.int64(13), 5), (np.int64(6), 3), (np.int64(10), 4), (np.int64(1), 3), (np.int64(11), 2), (np.int64(0), 6), (np.int64(11), 3), (np.int64(11), 4), (np.int64(4), 8), (np.int64(13), 6), (np.int64(7), 6), (np.int64(12), 4), (np.int64(14), 7), (np.int64(14), 8), (np.int64(0), 7), (np.int64(10), 5), (np.int64(12), 5), (np.int64(1), 4), (np.int64(6), 4), (np.int64(5), 4), (np.int64(5), 5), (np.int64(0), 8), (np.int64(0), 9), (np.int64(5), 6), (np.int64(1), 5), (np.int64(5), 7), (np.int64(5), 8), (np.int64(12), 6), (np.int64(9), 5), (np.int64(6), 5), (np.int64(10), 6), (np.int64(1), 6), (np.int64(7), 7), (np.int64(2), 5), (np.int64(10), 7), (np.int64(7), 8), (np.int64(11), 5), (np.int64(6), 6), (np.int64(13), 7), (np.int64(3), 3), (np.int64(6), 7), (np.int64(5), 9), (np.int64(10), 8), (np.int64(14), 9), (np.int64(0), 10), (np.int64(8), 3), (np.int64(8), 4), (np.int64(11), 6), (np.int64(6), 8), (np.int64(8), 5), (np.int64(7), 9), (np.int64(11), 7), (np.int64(7), 10), (np.int64(3), 4), (np.int64(6), 9), (np.int64(11), 8), (np.int64(2), 6), (np.int64(1), 7), (np.int64(5), 10), (np.int64(10), 9), (np.int64(2), 7), (np.int64(6), 10), (np.int64(7), 11), (np.int64(3), 5), (np.int64(2), 8), (np.int64(9), 6), (np.int64(1), 8), (np.int64(12), 7), (np.int64(4), 9), (np.int64(0), 11), (np.int64(13), 8), (np.int64(4), 10), (np.int64(10), 10), (np.int64(6), 11), (np.int64(6), 12), (np.int64(9), 7), (np.int64(6), 13), (np.int64(1), 9), (np.int64(8), 6), (np.int64(12), 8), (np.int64(3), 6), (np.int64(0), 12), (np.int64(5), 11), (np.int64(3), 7), (np.int64(8), 7), (np.int64(4), 11), (np.int64(14), 10), (np.int64(0), 13), (np.int64(7), 12), (np.int64(0), 14), (np.int64(13), 9), (np.int64(2), 9), (np.int64(13), 10), (np.int64(11), 9), (np.int64(6), 14), (np.int64(2), 10), (np.int64(9), 8), (np.int64(1), 10), (np.int64(2), 11), (np.int64(4), 12), (np.int64(8), 8), (np.int64(10), 11), (np.int64(4), 13), (np.int64(12), 9), (np.int64(1), 11), (np.int64(3), 8), (np.int64(3), 9), (np.int64(7), 13), (np.int64(2), 12), (np.int64(14), 11), (np.int64(2), 13), (np.int64(10), 12), (np.int64(9), 9), (np.int64(8), 9), (np.int64(7), 14), (np.int64(9), 10), (np.int64(1), 12), (np.int64(3), 10), (np.int64(8), 10), (np.int64(11), 10), (np.int64(9), 11), (np.int64(12), 10), (np.int64(12), 11), (np.int64(3), 11), (np.int64(14), 12), (np.int64(3), 12), (np.int64(12), 12), (np.int64(2), 14), (np.int64(8), 11), (np.int64(13), 11), (np.int64(13), 12), (np.int64(5), 12), (np.int64(11), 11), (np.int64(12), 13), (np.int64(8), 12), (np.int64(11), 12), (np.int64(9), 12), (np.int64(1), 13), (np.int64(8), 13), (np.int64(12), 14), (np.int64(9), 13), (np.int64(11), 13), (np.int64(14), 13), (np.int64(5), 13), (np.int64(3), 13), (np.int64(14), 14), (np.int64(8), 14), (np.int64(13), 13), (np.int64(1), 14), (np.int64(10), 13), (np.int64(10), 14), (np.int64(11), 14), (np.int64(9), 14), (np.int64(5), 14), (np.int64(3), 14), (np.int64(4), 14), (np.int64(13), 14)]\n"
     ]
    }
   ],
   "source": [
    "import numpy as np\n",
    "np.random.seed(0)\n",
    "num_jobs = ta01.num_jobs\n",
    "num_machines = ta01.num_machines\n",
    "print(f\"Number of jobs: {num_jobs}, Number of machines: {num_machines}\")\n",
    "\n",
    "# [-5, 5] の一様乱数で初期化\n",
    "initial_population = np.random.uniform(-5, 5, num_jobs * num_machines)\n",
    "print(\"Initial population values:\\n\", initial_population)\n",
    "\n",
    "# シーケンス番号に変換：値が小さい順に1から番号を振る\n",
    "initial_sequence = np.argsort(np.argsort(initial_population)) + 1\n",
    "print(\"Initial sequence based on population va)lues:\\n\", initial_sequence)\n",
    "\n",
    "# シーケンス番号をジョブ番号に変換\n",
    "job_sequence = initial_sequence % num_jobs + 1\n",
    "print(\"Job sequence based on initial population:\\n\", job_sequence)\n",
    "\n",
    "# (ジョブ番号, 同一ジョブ番号での登場順) のタプルに変換\n",
    "job_sequence_tuples = []\n",
    "job_count = [-1] * num_jobs\n",
    "for job_num in job_sequence:\n",
    "    job_count[job_num - 1] += 1\n",
    "    job_sequence_tuples.append((job_num-1, job_count[job_num - 1]))\n",
    "print(\"Job sequence tuples:\\n\", job_sequence_tuples)"
   ]
  },
  {
   "cell_type": "code",
   "execution_count": 43,
   "id": "bb32288b",
   "metadata": {},
   "outputs": [],
   "source": [
    "instances = ta01\n",
    "\n",
    "from job_shop_lib.dispatching import Dispatcher\n",
    "\n",
    "dispatcher = Dispatcher(instances)\n",
    "\n",
    "for i, j in job_sequence_tuples:\n",
    "    dispatcher.dispatch(jobs[i][j], jobs[i][j].machine_id)"
   ]
  },
  {
   "cell_type": "code",
   "execution_count": 44,
   "id": "9e2e1233",
   "metadata": {},
   "outputs": [
    {
     "data": {
      "text/plain": [
       "2527"
      ]
     },
     "execution_count": 44,
     "metadata": {},
     "output_type": "execute_result"
    }
   ],
   "source": [
    "dispatcher.schedule.makespan()"
   ]
  },
  {
   "cell_type": "code",
   "execution_count": 45,
   "id": "7e7689b6",
   "metadata": {},
   "outputs": [
    {
     "name": "stdout",
     "output_type": "stream",
     "text": [
      "Processing Times:\n",
      " [[1 1 7]\n",
      " [5 1 1]\n",
      " [1 3 2]]\n",
      "Machines:\n",
      " [[0 1 2]\n",
      " [1 2 0]\n",
      " [2 0 1]]\n"
     ]
    }
   ],
   "source": [
    "from job_shop_lib import JobShopInstance, Operation\n",
    "import numpy as np\n",
    "\n",
    "CPU = 0\n",
    "GPU = 1\n",
    "DATA_CENTER = 2\n",
    "\n",
    "job_1 = [Operation(CPU, 1), Operation(GPU, 1), Operation(DATA_CENTER, 7)]\n",
    "job_2 = [Operation(GPU, 5), Operation(DATA_CENTER, 1), Operation(CPU, 1)]\n",
    "job_3 = [Operation(DATA_CENTER, 1), Operation(CPU, 3), Operation(GPU, 2)]\n",
    "\n",
    "jobs = [job_1, job_2, job_3]\n",
    "\n",
    "instance = JobShopInstance(\n",
    "    jobs,\n",
    "    name=\"Example\"\n",
    ")\n",
    "\n",
    "times = np.array(instance.durations_matrix)\n",
    "machines = np.array(instance.machines_matrix)\n",
    "\n",
    "print(\"Processing Times:\\n\", times)\n",
    "print(\"Machines:\\n\", machines)"
   ]
  },
  {
   "cell_type": "code",
   "execution_count": 20,
   "id": "4c4727df",
   "metadata": {},
   "outputs": [
    {
     "name": "stdout",
     "output_type": "stream",
     "text": [
      "Number of jobs: 3, Number of machines: 3\n",
      "Initial population values:\n",
      " [ 0.48813504  2.15189366  1.02763376  0.44883183 -0.76345201  1.45894113\n",
      " -0.62412789  3.91773001  4.63662761]\n",
      "Initial sequence based on population va)lues:\n",
      " [4 7 5 3 1 6 2 8 9]\n",
      "Job sequence based on initial population:\n",
      " [2 2 3 1 2 1 3 3 1]\n",
      "Job sequence tuples:\n",
      " [(np.int64(1), 0), (np.int64(1), 1), (np.int64(2), 0), (np.int64(0), 0), (np.int64(1), 2), (np.int64(0), 1), (np.int64(2), 1), (np.int64(2), 2), (np.int64(0), 2)]\n"
     ]
    }
   ],
   "source": [
    "import numpy as np\n",
    "np.random.seed(0)\n",
    "num_jobs = len(jobs)\n",
    "num_machines = 3\n",
    "print(f\"Number of jobs: {num_jobs}, Number of machines: {num_machines}\")\n",
    "\n",
    "# [-5, 5] の一様乱数で初期化\n",
    "initial_population = np.random.uniform(-5, 5, num_jobs * num_machines)\n",
    "print(\"Initial population values:\\n\", initial_population)\n",
    "\n",
    "# シーケンス番号に変換：値が小さい順に1から番号を振る\n",
    "initial_sequence = np.argsort(np.argsort(initial_population)) + 1\n",
    "print(\"Initial sequence based on population va)lues:\\n\", initial_sequence)\n",
    "\n",
    "# シーケンス番号をジョブ番号に変換\n",
    "job_sequence = initial_sequence % num_jobs + 1\n",
    "print(\"Job sequence based on initial population:\\n\", job_sequence)\n",
    "\n",
    "# (ジョブ番号, 同一ジョブ番号での登場順) のタプルに変換\n",
    "job_sequence_tuples = []\n",
    "job_count = [-1] * num_jobs\n",
    "for job_num in job_sequence:\n",
    "    job_count[job_num - 1] += 1\n",
    "    job_sequence_tuples.append((job_num-1, job_count[job_num - 1]))\n",
    "print(\"Job sequence tuples:\\n\", job_sequence_tuples)\n",
    "\n"
   ]
  },
  {
   "cell_type": "code",
   "execution_count": 21,
   "id": "eecc6176",
   "metadata": {},
   "outputs": [],
   "source": [
    "GPU = 1\n",
    "DATA_CENTER = 2\n",
    "\n",
    "job_1 = [Operation(CPU, 1), Operation(GPU, 1), Operation(DATA_CENTER, 7)]\n",
    "job_2 = [Operation(GPU, 5), Operation(DATA_CENTER, 1), Operation(CPU, 1)]\n",
    "job_3 = [Operation(DATA_CENTER, 1), Operation(CPU, 3), Operation(GPU, 2)]\n",
    "\n",
    "jobs = [job_1, job_2, job_3]\n",
    "\n",
    "instance = JobShopInstance(jobs, name=\"Example\")"
   ]
  },
  {
   "cell_type": "code",
   "execution_count": 22,
   "id": "a2170508",
   "metadata": {},
   "outputs": [],
   "source": [
    "from job_shop_lib.dispatching import Dispatcher\n",
    "\n",
    "dispatcher = Dispatcher(instance)\n",
    "\n",
    "for i, j in job_sequence_tuples:\n",
    "    dispatcher.dispatch(jobs[i][j], jobs[i][j].machine_id)"
   ]
  },
  {
   "cell_type": "code",
   "execution_count": 23,
   "id": "eb8c7857",
   "metadata": {},
   "outputs": [
    {
     "data": {
      "image/png": "[encoded data removed]",
      "text/plain": [
       "<Figure size 640x480 with 1 Axes>"
      ]
     },
     "metadata": {},
     "output_type": "display_data"
    }
   ],
   "source": [
    "from job_shop_lib.visualization.gantt import plot_gantt_chart\n",
    "import matplotlib.pyplot as plt\n",
    "\n",
    "plt.style.use(\"ggplot\")\n",
    "\n",
    "_ = plot_gantt_chart(dispatcher.schedule)"
   ]
  },
  {
   "cell_type": "code",
   "execution_count": 25,
   "id": "31fdcb31",
   "metadata": {},
   "outputs": [
    {
     "name": "stdout",
     "output_type": "stream",
     "text": [
      "Makespan of the schedule: 14\n"
     ]
    }
   ],
   "source": [
    "# makespanを計算\n",
    "makespan = dispatcher.schedule.makespan()\n",
    "print(\"Makespan of the schedule:\", makespan)"
   ]
  },
  {
   "cell_type": "code",
   "execution_count": null,
   "id": "de435c3b",
   "metadata": {},
   "outputs": [],
   "source": []
  }
 ],
 "metadata": {
  "kernelspec": {
   "display_name": "env_tsa",
   "language": "python",
   "name": "python3"
  },
  "language_info": {
   "codemirror_mode": {
    "name": "ipython",
    "version": 3
   },
   "file_extension": ".py",
   "mimetype": "text/x-python",
   "name": "python",
   "nbconvert_exporter": "python",
   "pygments_lexer": "ipython3",
   "version": "3.11.13"
  }
 },
 "nbformat": 4,
 "nbformat_minor": 5
}
